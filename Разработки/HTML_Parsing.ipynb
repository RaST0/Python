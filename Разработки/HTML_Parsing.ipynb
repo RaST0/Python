{
 "cells": [
  {
   "cell_type": "markdown",
   "metadata": {},
   "source": [
    "# Парсинг HTML с помощью BeautifulSoup\n",
    "\n",
    "Типы парсеров:\n",
    "- html.parser - золотая середина, более строгий синтаксис чем html5lib\n",
    "- lxml - самый быстрый\n",
    "- html5lib - самый медленный, самый правильный на HTML5, необходимо доп. установить модуль\n",
    "\n",
    "* pip install BeautifulSoup4"
   ]
  },
  {
   "cell_type": "code",
   "execution_count": 3,
   "metadata": {},
   "outputs": [],
   "source": [
    "from bs4 import BeautifulSoup"
   ]
  },
  {
   "cell_type": "code",
   "execution_count": 13,
   "metadata": {},
   "outputs": [
    {
     "name": "stdout",
     "output_type": "stream",
     "text": [
      "b'<html>\\n  <meta/>\\n  <head>\\n    <title>Hello</title>\\n  </head>\\n  <body onload=\"crash()\">Hi all<p/></body>\\n</html>'\n"
     ]
    }
   ],
   "source": [
    "#BeautifulSoup(\"<a></p>\", \"lmxl\")\n",
    "tag_soup = '''\n",
    "<meta/><head><title>Hello</head><body onload=crash()>Hi all<p>'''\n",
    "from lxml.html.soupparser import fromstring\n",
    "root = fromstring(tag_soup)\n",
    "from lxml.etree import tostring\n",
    "print(tostring(root, pretty_print=True).strip())"
   ]
  },
  {
   "cell_type": "code",
   "execution_count": null,
   "metadata": {},
   "outputs": [
    {
     "data": {
      "text/plain": [
       "<a></a>"
      ]
     },
     "execution_count": 10,
     "metadata": {},
     "output_type": "execute_result"
    }
   ],
   "source": [
    "BeautifulSoup(\"<a></p>\", \"html.parser\")"
   ]
  },
  {
   "cell_type": "code",
   "execution_count": null,
   "metadata": {},
   "outputs": [],
   "source": [
    "html_1 = \"\"\"\n",
    "<html>\n",
    " <body>\n",
    "  <p>\n",
    "   Some\n",
    "   <b>\n",
    "    bad\n",
    "    <i>\n",
    "     HTML\n",
    "    </i>\n",
    "   </b>\n",
    "  </p>\n",
    " </body>\n",
    "</html>\n",
    "\"\"\""
   ]
  },
  {
   "cell_type": "code",
   "execution_count": null,
   "metadata": {},
   "outputs": [
    {
     "name": "stdout",
     "output_type": "stream",
     "text": [
      "<html>\n",
      " <body>\n",
      "  <p>\n",
      "   Some\n",
      "   <b>\n",
      "    bad\n",
      "    <i>\n",
      "     HTML\n",
      "    </i>\n",
      "   </b>\n",
      "  </p>\n",
      " </body>\n",
      "</html>\n",
      "\n"
     ]
    }
   ],
   "source": [
    "soup = BeautifulSoup(html_1)\n",
    "print(soup.prettify())"
   ]
  },
  {
   "cell_type": "code",
   "execution_count": 15,
   "metadata": {},
   "outputs": [
    {
     "name": "stdout",
     "output_type": "stream",
     "text": [
      "<html>\n",
      " <head>\n",
      "  <title>\n",
      "   Web 2021\n",
      "  </title>\n",
      "  <link href=\"https://stackpath.bootstrapcdn.com/bootstrap/4.1.3/css/bootstrap.min.css\" rel=\"stylesheet\"/>\n",
      "  <style>\n",
      "   body {\n",
      "\t\tmargin: 0;\n",
      "\t}\n",
      "\t.header a {\n",
      "\t\ttext-decoration: none;\n",
      "\t\tcolor: black;\n",
      "\t}\n",
      "\t.header h1 {\n",
      "\t\tbackground-color: #eee; \n",
      "\t\tpadding: .6em;\n",
      "\t\tmargin-bottom: 0.3em;\n",
      "\t}\n",
      "\th1 {\n",
      "\t\tbackground-color: #eee;\n",
      "\t\tpadding: 1em;\n",
      "\t\tmargin-bottom: 0.3em;\n",
      "\t}\n",
      "\t.menu {\n",
      "\t\tpadding-left: 1em;\n",
      "\t}\n",
      "\t.menu a {\n",
      "\t\tdisplay: inline-block;\n",
      "\t\tpadding: 0.2em;\n",
      "\t\tborder: 1px solid gray;\n",
      "\t\tcolor: white;\n",
      "\t\tbackground-color: #555;\n",
      "\t\ttext-decoration: none;\n",
      "\t}\n",
      "\t.content_center{\n",
      "\t\tpadding: 0 1em;\n",
      "\t\tmargin-left: 30%;\n",
      "\t\tmargin-right: 30%;\n",
      "\t\tpadding: 10px;\n",
      "\t}\n",
      "\t.content {\n",
      "\t\tpadding: 0 1em;\n",
      "\t}\n",
      "\ttable {\n",
      "\t\ttable-layout: auto;\n",
      "\t\twidth: 39%;\n",
      "\t\ttext-align: center;\n",
      "\t}\n",
      "\t#button1, #button2 {\n",
      "\t\twidth: 100px;\n",
      "\t}\n",
      "  </style>\n",
      " </head>\n",
      " <body>\n",
      "  <div class=\"d-flex flex-column flex-md-row align-items-center p-3 px-md-4 mb-3 bg-white border-bottom shadow-sm\">\n",
      "   <h5 class=\"my-0 mr-md-auto font-weight-normal\">\n",
      "    Web 2021\n",
      "   </h5>\n",
      "   <nav class=\"my-2 my-md-0 mr-md-3\">\n",
      "    <a class=\"p-2 text-dark\" href=\"/\">\n",
      "     Главная\n",
      "    </a>\n",
      "    <a class=\"p-2 text-dark\" href=\"/films\">\n",
      "     Таблица \"Фильмы\"\n",
      "    </a>\n",
      "    <a class=\"p-2 text-dark\" href=\"/cinema\">\n",
      "     Таблица \"Кинотеатры\"\n",
      "    </a>\n",
      "   </nav>\n",
      "   <a class=\"btn btn-outline-primary\" href=\"/login\">\n",
      "    Вход\n",
      "   </a>\n",
      "  </div>\n",
      "  <div class=\"content\">\n",
      "   <p>\n",
      "    В базе данных проекта 6 фильмов из 3 кинотеатров.\n",
      "   </p>\n",
      "  </div>\n",
      "  <footer class=\"pt-4 my-md-5 pt-md-5 border-top\">\n",
      "   <div class=\"col-6 col-md\">\n",
      "    <ul class=\"list-unstyled text-small\">\n",
      "     <li>\n",
      "      <a class=\"text-muted\" href=\"#\">\n",
      "       214-321 Захаров Николай\n",
      "      </a>\n",
      "     </li>\n",
      "    </ul>\n",
      "   </div>\n",
      "  </footer>\n",
      " </body>\n",
      "</html>\n",
      "\n"
     ]
    }
   ],
   "source": [
    "homework = \"\"\"\n",
    "<html>\n",
    "<head>\n",
    "\t<title>Web 2021</title>\n",
    "\t<link rel=\"stylesheet\" href=\"https://stackpath.bootstrapcdn.com/bootstrap/4.1.3/css/bootstrap.min.css\">\n",
    "\t<style>\n",
    "\tbody {\n",
    "\t\tmargin: 0;\n",
    "\t}\n",
    "\t.header a {\n",
    "\t\ttext-decoration: none;\n",
    "\t\tcolor: black;\n",
    "\t}\n",
    "\t.header h1 {\n",
    "\t\tbackground-color: #eee; \n",
    "\t\tpadding: .6em;\n",
    "\t\tmargin-bottom: 0.3em;\n",
    "\t}\n",
    "\th1 {\n",
    "\t\tbackground-color: #eee;\n",
    "\t\tpadding: 1em;\n",
    "\t\tmargin-bottom: 0.3em;\n",
    "\t}\n",
    "\t.menu {\n",
    "\t\tpadding-left: 1em;\n",
    "\t}\n",
    "\t.menu a {\n",
    "\t\tdisplay: inline-block;\n",
    "\t\tpadding: 0.2em;\n",
    "\t\tborder: 1px solid gray;\n",
    "\t\tcolor: white;\n",
    "\t\tbackground-color: #555;\n",
    "\t\ttext-decoration: none;\n",
    "\t}\n",
    "\t.content_center{\n",
    "\t\tpadding: 0 1em;\n",
    "\t\tmargin-left: 30%;\n",
    "\t\tmargin-right: 30%;\n",
    "\t\tpadding: 10px;\n",
    "\t}\n",
    "\t.content {\n",
    "\t\tpadding: 0 1em;\n",
    "\t}\n",
    "\ttable {\n",
    "\t\ttable-layout: auto;\n",
    "\t\twidth: 39%;\n",
    "\t\ttext-align: center;\n",
    "\t}\n",
    "\t#button1, #button2 {\n",
    "\t\twidth: 100px;\n",
    "\t}\n",
    "\t</style>\n",
    "</head>\n",
    "<body>\n",
    "\n",
    "    <div class=\"d-flex flex-column flex-md-row align-items-center p-3 px-md-4 mb-3 bg-white border-bottom shadow-sm\">\n",
    "      <h5 class=\"my-0 mr-md-auto font-weight-normal\">Web 2021</h5>\n",
    "      <nav class=\"my-2 my-md-0 mr-md-3\">\n",
    "        <a class=\"p-2 text-dark\" href=\"/\">Главная</a>\n",
    "        <a class=\"p-2 text-dark\" href=\"/films\">Таблица \"Фильмы\"</a>\n",
    "        <a class=\"p-2 text-dark\" href=\"/cinema\">Таблица \"Кинотеатры\"</a>\n",
    "      </nav>\n",
    "\t\t\n",
    "\t \t  <a class=\"btn btn-outline-primary\" href=\"/login\">Вход</a>\n",
    "\t\t\n",
    "    </div>\n",
    "    </div>\n",
    "\t<div class=\"content\">\n",
    "\t\n",
    "\t\n",
    "\t<p>В базе данных проекта 6 фильмов из 3 кинотеатров.</p>\n",
    "\n",
    "\t</div>\n",
    "\t   <footer class=\"pt-4 my-md-5 pt-md-5 border-top\">\n",
    "          <div class=\"col-6 col-md\">\n",
    "            <ul class=\"list-unstyled text-small\">\n",
    "              <li><a class=\"text-muted\" href=\"#\">214-321 Захаров Николай</a></li>\n",
    "            </ul>\n",
    "          </div>\n",
    "        </div>\n",
    "      </footer>\n",
    "</html>\n",
    "\"\"\"\n",
    "soup = BeautifulSoup(homework, 'html.parser')\n",
    "print(soup.prettify())"
   ]
  }
 ],
 "metadata": {
  "interpreter": {
   "hash": "59f7dd0d2a961aa85784401b730497533cf16ab986729140e136359502db1984"
  },
  "kernelspec": {
   "display_name": "Python 3.10.0 64-bit",
   "language": "python",
   "name": "python3"
  },
  "language_info": {
   "codemirror_mode": {
    "name": "ipython",
    "version": 3
   },
   "file_extension": ".py",
   "mimetype": "text/x-python",
   "name": "python",
   "nbconvert_exporter": "python",
   "pygments_lexer": "ipython3",
   "version": "3.10.0"
  },
  "orig_nbformat": 4
 },
 "nbformat": 4,
 "nbformat_minor": 2
}
