{
 "cells": [
  {
   "cell_type": "markdown",
   "metadata": {},
   "source": [
    "# Chardet - Автоматическое определение кодировки"
   ]
  },
  {
   "cell_type": "code",
   "execution_count": 1,
   "metadata": {},
   "outputs": [],
   "source": [
    "import chardet"
   ]
  },
  {
   "cell_type": "code",
   "execution_count": 2,
   "metadata": {},
   "outputs": [
    {
     "name": "stdout",
     "output_type": "stream",
     "text": [
      "UTF-8\n"
     ]
    }
   ],
   "source": [
    "import requests\n",
    "r = requests.get(\"https://ya.ru\")\n",
    "print(r.encoding)"
   ]
  },
  {
   "cell_type": "code",
   "execution_count": 3,
   "metadata": {},
   "outputs": [
    {
     "name": "stdout",
     "output_type": "stream",
     "text": [
      "{'encoding': 'utf-8', 'confidence': 0.99, 'language': ''}\n",
      "utf-8\n"
     ]
    }
   ],
   "source": [
    "d = chardet.detect(r.content)\n",
    "print(d)\n",
    "print(d['encoding'])"
   ]
  },
  {
   "cell_type": "code",
   "execution_count": 4,
   "metadata": {},
   "outputs": [
    {
     "name": "stdout",
     "output_type": "stream",
     "text": [
      "utf-8\n"
     ]
    }
   ],
   "source": [
    "# Определить кодировку одного файла\n",
    "file_content = open('football.csv', 'rb').read()\n",
    "result = chardet.detect(file_content)\n",
    "print(result['encoding'])"
   ]
  },
  {
   "cell_type": "code",
   "execution_count": 6,
   "metadata": {},
   "outputs": [
    {
     "name": "stdout",
     "output_type": "stream",
     "text": [
      "{'encoding': 'ascii', 'confidence': 1.0, 'language': ''}\n"
     ]
    }
   ],
   "source": [
    "# Определить кодировку большого файла (или веб страницы) с помощью блоков (например, используя UniversalDetector)\n",
    "from chardet.universaldetector import UniversalDetector\n",
    "ud = UniversalDetector() \n",
    "for line in open(\"temp100.txt\", \"rb\"):\n",
    "    ud.feed(line)       \n",
    "    if ud.done: \n",
    "        break   \n",
    "ud.close()        \n",
    "print(ud.result)"
   ]
  }
 ],
 "metadata": {
  "interpreter": {
   "hash": "59f7dd0d2a961aa85784401b730497533cf16ab986729140e136359502db1984"
  },
  "kernelspec": {
   "display_name": "Python 3.10.0 64-bit",
   "language": "python",
   "name": "python3"
  },
  "language_info": {
   "codemirror_mode": {
    "name": "ipython",
    "version": 3
   },
   "file_extension": ".py",
   "mimetype": "text/x-python",
   "name": "python",
   "nbconvert_exporter": "python",
   "pygments_lexer": "ipython3",
   "version": "3.10.2"
  },
  "orig_nbformat": 4
 },
 "nbformat": 4,
 "nbformat_minor": 2
}
