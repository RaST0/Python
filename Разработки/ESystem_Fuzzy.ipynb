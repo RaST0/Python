{
 "cells": [
  {
   "cell_type": "code",
   "execution_count": 1,
   "metadata": {},
   "outputs": [
    {
     "name": "stdout",
     "output_type": "stream",
     "text": [
      "Var1 =  ('Объем кружки', 'малая', 1, 'средняя', 0, 'большая', 0)\n",
      "Var2 =  ('Сладость', 'не сладко', 0.5, 'сладко', 0.6, 'очень сладко', 0)\n"
     ]
    }
   ],
   "source": [
    "# Фазификация\n",
    "import sqlite3\n",
    "conn = sqlite3.connect('lab3.db', check_same_thread=False)\n",
    "cursor = conn.cursor()\n",
    "#Linguistic_Var1 = input() # 0,25 - Объем кружки\n",
    "#Linguistic_Var2 = input() # 0,2 - Сладость\n",
    "Linguistic_Var1 = '0.25' # 0,25 - Объем кружки\n",
    "Linguistic_Var2 = '0.2' # 0,2 - Сладость\n",
    "cursor.execute(\"SELECT name, ch1_name, ch1_val, ch2_name, ch2_val, ch3_name, ch3_val FROM FuzzyVariables where linguistic_variable_id=? and ling_var_val=?\",(1,Linguistic_Var1,))\n",
    "variable_1 = cursor.fetchone()\n",
    "cursor.execute(\"SELECT name, ch1_name, ch1_val, ch2_name, ch2_val, ch3_name, ch3_val FROM FuzzyVariables where linguistic_variable_id=? and ling_var_val=?\",(2,Linguistic_Var2,))\n",
    "variable_2 = cursor.fetchone()\n",
    "print('Var1 = ', variable_1)\n",
    "print('Var2 = ', variable_2)"
   ]
  },
  {
   "cell_type": "code",
   "execution_count": 2,
   "metadata": {},
   "outputs": [
    {
     "data": {
      "text/plain": [
       "[0.5, 0.6, 0, 0, 0, 0, 0, 0, 0]"
      ]
     },
     "execution_count": 2,
     "metadata": {},
     "output_type": "execute_result"
    }
   ],
   "source": [
    "# Агрегирование\n",
    "cursor.execute(\"SELECT ch1_val, ch2_val, ch3_val FROM FuzzyVariables where linguistic_variable_id=? and ling_var_val=?\",(1,Linguistic_Var1,))\n",
    "variable_1 = cursor.fetchone()\n",
    "cursor.execute(\"SELECT ch1_val, ch2_val, ch3_val FROM FuzzyVariables where linguistic_variable_id=? and ling_var_val=?\",(2,Linguistic_Var2,))\n",
    "variable_2 = cursor.fetchone()\n",
    "aggr_func = []\n",
    "aggr_func.append(min(variable_1[0],variable_2[0])) # мало\n",
    "aggr_func.append(min(variable_1[0],variable_2[1])) # средне\n",
    "aggr_func.append(min(variable_1[0],variable_2[2])) # средне\n",
    "aggr_func.append(min(variable_1[1],variable_2[0])) # мало\n",
    "aggr_func.append(min(variable_1[1],variable_2[1])) # средне\n",
    "aggr_func.append(min(variable_1[1],variable_2[2])) # мало\n",
    "aggr_func.append(min(variable_1[2],variable_2[0])) # средне \n",
    "aggr_func.append(min(variable_1[2],variable_2[1])) # много \n",
    "aggr_func.append(min(variable_1[2],variable_2[2])) # много\n",
    "aggr_func"
   ]
  },
  {
   "cell_type": "code",
   "execution_count": 7,
   "metadata": {},
   "outputs": [],
   "source": [
    "# Активация\n",
    "act_func = []\n",
    "act_func.append(max(aggr_func[0],aggr_func[3],aggr_func[5]))\n",
    "act_func.append(max(aggr_func[1],aggr_func[2],aggr_func[4],aggr_func[6]))\n",
    "act_func.append(max(aggr_func[7],aggr_func[8]))\n",
    "cursor.execute(\"SELECT COUNT(*) FROM FuzzyVariables where linguistic_variable_id=3\")\n",
    "counter_act = cursor.fetchone()\n",
    "counter = counter_act[0]\n",
    "for i in range(counter):\n",
    "    x = 13+i\n",
    "    cursor.execute(\"SELECT * FROM FuzzyVariables where linguistic_variable_id=3 and id=?\",(x,))\n",
    "    variable_3 = cursor.fetchone()\n",
    "    if act_func[0] < variable_3[5]:\n",
    "        ch1_val = act_func[0]\n",
    "        cursor.execute(\"Insert into Func_Activation(name,linguistic_variable_id,ling_var_val,ch1_name,ch1_val,ch2_name,ch2_val,ch3_name,ch3_val) VALUES(?,?,?,?,?,?,?,?,?)\",(variable_3[1],variable_3[2],variable_3[3],variable_3[4],ch1_val,variable_3[6],variable_3[7],variable_3[8],variable_3[9]))\n",
    "        conn.commit()\n",
    "    elif act_func[1] < variable_3[7]:\n",
    "        ch2_val = act_func[1]\n",
    "        cursor.execute(\"Insert into Func_Activation(name,linguistic_variable_id,ling_var_val,ch1_name,ch1_val,ch2_name,ch2_val,ch3_name,ch3_val) VALUES(?,?,?,?,?,?,?,?,?)\",(variable_3[1],variable_3[2],variable_3[3],variable_3[4],variable_3[5],variable_3[6],ch2_val,variable_3[8],variable_3[9]))\n",
    "        conn.commit()\n",
    "    elif act_func[2] < variable_3[9]:\n",
    "        ch3_val = act_func[2]\n",
    "        cursor.execute(\"Insert into Func_Activation(name,linguistic_variable_id,ling_var_val,ch1_name,ch1_val,ch2_name,ch2_val,ch3_name,ch3_val) VALUES(?,?,?,?,?,?,?,?,?)\",(variable_3[1],variable_3[2],variable_3[3],variable_3[4],variable_3[5],variable_3[6],variable_3[7],variable_3[8],ch3_val))\n",
    "        conn.commit()\n",
    "    else:\n",
    "        cursor.execute(\"Insert into Func_Activation(name,linguistic_variable_id,ling_var_val,ch1_name,ch1_val,ch2_name,ch2_val,ch3_name,ch3_val) VALUES(?,?,?,?,?,?,?,?,?)\",(variable_3[1],variable_3[2],variable_3[3],variable_3[4],variable_3[5],variable_3[6],variable_3[7],variable_3[8],variable_3[9]))\n",
    "        conn.commit()"
   ]
  },
  {
   "cell_type": "code",
   "execution_count": 8,
   "metadata": {},
   "outputs": [
    {
     "data": {
      "text/plain": [
       "[0.5, 0.6, 0]"
      ]
     },
     "execution_count": 8,
     "metadata": {},
     "output_type": "execute_result"
    }
   ],
   "source": [
    "act_func"
   ]
  },
  {
   "cell_type": "code",
   "execution_count": 4,
   "metadata": {},
   "outputs": [
    {
     "data": {
      "text/plain": [
       "[0.5, 0.5, 0.4, 0.6, 0.4, 0.2, 0]"
      ]
     },
     "execution_count": 4,
     "metadata": {},
     "output_type": "execute_result"
    }
   ],
   "source": [
    "# Аккумуляция\n",
    "accum_max = []\n",
    "for i in range(counter):\n",
    "    i += 1\n",
    "    cursor.execute(\"SELECT ch1_val, ch2_val, ch3_val FROM Func_Activation where id=?\",(i,))\n",
    "    accum = cursor.fetchone()\n",
    "    accum_max.append(max(accum))\n",
    "accum_max"
   ]
  },
  {
   "cell_type": "code",
   "execution_count": 5,
   "metadata": {},
   "outputs": [
    {
     "name": "stdout",
     "output_type": "stream",
     "text": [
      "[0.0, 0.25, 0.4, 0.8999999999999999, 0.8, 0.5, 0] -> 2.8499999999999996\n",
      "[0.5, 0.5, 0.4, 0.6, 0.4, 0.2, 0] -> 2.6\n"
     ]
    },
    {
     "data": {
      "text/plain": [
       "1.096153846153846"
      ]
     },
     "execution_count": 5,
     "metadata": {},
     "output_type": "execute_result"
    }
   ],
   "source": [
    "# Дефазификация \n",
    "# Формула x(i) * y(i) / y(0-i)\n",
    "defas = []\n",
    "sum_defas = 0\n",
    "sum_accum_max = 0\n",
    "result = 0\n",
    "x = 0\n",
    "for i in range(counter):\n",
    "    x += 1\n",
    "    cursor.execute(\"SELECT ling_var_val FROM Func_Activation where id=?\",(x,))\n",
    "    func_def = cursor.fetchone()\n",
    "    def_sum = func_def[0]\n",
    "    defas.append(def_sum * accum_max[i])\n",
    "# Сумма всех элементов, полученных умножением  \n",
    "for c in range(len(defas)):\n",
    "    sum_defas += defas[c] \n",
    "# Сумма всех элементов, полученных на этапе аккумуляции\n",
    "for b in range(len(accum_max)):\n",
    "    sum_accum_max += accum_max[b]\n",
    "# Деление\n",
    "print('{} -> {}'.format(defas,sum_defas))\n",
    "print('{} -> {}'.format(accum_max,sum_accum_max))\n",
    "result = sum_defas / sum_accum_max\n",
    "result"
   ]
  },
  {
   "cell_type": "code",
   "execution_count": 9,
   "metadata": {},
   "outputs": [],
   "source": [
    "#cursor.execute(\"DELETE FROM Func_Activation\") # TRUNCATE TABLE\n",
    "#cursor.execute(\"DELETE FROM sqlite_sequence where name='Func_Activation'\") # AUTO-INC-RESET\n",
    "#conn.commit()"
   ]
  }
 ],
 "metadata": {
  "kernelspec": {
   "display_name": "Python 3.10.2 64-bit",
   "language": "python",
   "name": "python3"
  },
  "language_info": {
   "codemirror_mode": {
    "name": "ipython",
    "version": 3
   },
   "file_extension": ".py",
   "mimetype": "text/x-python",
   "name": "python",
   "nbconvert_exporter": "python",
   "pygments_lexer": "ipython3",
   "version": "3.10.2"
  },
  "orig_nbformat": 4,
  "vscode": {
   "interpreter": {
    "hash": "99ca3cc4135effd912ee8a920963f7ef1d1ced99b3c815bf7084eb301160236c"
   }
  }
 },
 "nbformat": 4,
 "nbformat_minor": 2
}
