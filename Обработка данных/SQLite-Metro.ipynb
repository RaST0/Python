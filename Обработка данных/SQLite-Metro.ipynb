{
 "cells": [
  {
   "cell_type": "markdown",
   "metadata": {},
   "source": [
    "# Работа с БД mosmetro.db на SQLite"
   ]
  },
  {
   "cell_type": "markdown",
   "metadata": {},
   "source": [
    "# HW:\n",
    "- Создать БД **mosmetro.db** на SQLite с несколькими таблицами, например: станции, линии, районы. Настроить правильно поля: типы, FK, NOT NULL, AI, ... +\n",
    "- **Мигрировать все данные из mosmetro.json в mosmetro.db** +\n",
    "- показать список всех станций метро с параметрами (все поля как в json-файле) +\n",
    "- показать список веток метрополитена и количество станций на каждой ветке +\n",
    "- показать список ТОП-10 районов с наибольшим количеством станций метрополитена в порядке возрастания +\n",
    "- показать список ТОП-5 веток метрополитена с наименьшим количеством действующих станций метро в порядке возрастания +\n",
    "* P.S. Всю подготовку данных возложить на SQLite\n"
   ]
  },
  {
   "cell_type": "code",
   "execution_count": 41,
   "metadata": {},
   "outputs": [],
   "source": [
    "# Создание таблицы, полей и параметров.\n",
    "import sqlite3\n",
    "from prettytable import from_db_cursor\n",
    "db = sqlite3.connect(\"mosmetro.db\") # Для легкой проверки можно поменять mosmetro.db на :memory:\n",
    "cur = db.cursor()\n",
    "db.execute(\"CREATE TABLE metro (id integer primary key AUTOINCREMENT NOT NULL, Station varchar(100), Line varchar(100), District varchar(100))\")\n",
    "db.commit()\n",
    "# Добавить несколько табличек ( !!! )\n",
    "\n",
    "# Второй файл с несколькими таблицами со своими запросами*"
   ]
  },
  {
   "cell_type": "code",
   "execution_count": 42,
   "metadata": {},
   "outputs": [],
   "source": [
    "# Мигрировать все данные из mosmetro.json в mosmetro.db\n",
    "import json\n",
    "with open(\"mosmetro.json\", encoding='utf-8') as f:\n",
    "    data = json.load(f)\n",
    "for line in data:\n",
    "    cur.execute(\"INSERT INTO metro(Station,Line,District) VALUES (?,?,?)\",[line['Station'],line['Line'],line['District']])\n",
    "db.commit()\n",
    "# Показать список всех станций метро с параметрами (все поля как в json-файле)\n",
    "cur.execute(\"SELECT * FROM metro\")\n",
    "from_db_cursor(cur)"
   ]
  },
  {
   "cell_type": "code",
   "execution_count": 43,
   "metadata": {},
   "outputs": [
    {
     "data": {
      "text/html": [
       "<table>\n",
       "    <thead>\n",
       "        <tr>\n",
       "            <th>Line</th>\n",
       "            <th>count(Station)</th>\n",
       "        </tr>\n",
       "    </thead>\n",
       "    <tbody>\n",
       "        <tr>\n",
       "            <td>Арбатско-Покровская линия</td>\n",
       "            <td>22</td>\n",
       "        </tr>\n",
       "        <tr>\n",
       "            <td>Большая кольцевая линия</td>\n",
       "            <td>29</td>\n",
       "        </tr>\n",
       "        <tr>\n",
       "            <td>Бутовская линия Лёгкого метро</td>\n",
       "            <td>7</td>\n",
       "        </tr>\n",
       "        <tr>\n",
       "            <td>Замоскворецкая линия</td>\n",
       "            <td>24</td>\n",
       "        </tr>\n",
       "        <tr>\n",
       "            <td>Калининская линия</td>\n",
       "            <td>8</td>\n",
       "        </tr>\n",
       "        <tr>\n",
       "            <td>Калужско-Рижская линия</td>\n",
       "            <td>24</td>\n",
       "        </tr>\n",
       "        <tr>\n",
       "            <td>Каховская линия</td>\n",
       "            <td>3</td>\n",
       "        </tr>\n",
       "        <tr>\n",
       "            <td>Кольцевая линия</td>\n",
       "            <td>13</td>\n",
       "        </tr>\n",
       "        <tr>\n",
       "            <td>Люблинско-Дмитровская линия</td>\n",
       "            <td>24</td>\n",
       "        </tr>\n",
       "        <tr>\n",
       "            <td>Московская монорельсовая транспортная система</td>\n",
       "            <td>6</td>\n",
       "        </tr>\n",
       "        <tr>\n",
       "            <td>Московское центральное кольцо</td>\n",
       "            <td>31</td>\n",
       "        </tr>\n",
       "        <tr>\n",
       "            <td>Некрасовская линия</td>\n",
       "            <td>11</td>\n",
       "        </tr>\n",
       "        <tr>\n",
       "            <td>Серпуховско-Тимирязевская линия</td>\n",
       "            <td>25</td>\n",
       "        </tr>\n",
       "        <tr>\n",
       "            <td>Сокольническая линия</td>\n",
       "            <td>26</td>\n",
       "        </tr>\n",
       "        <tr>\n",
       "            <td>Солнцевская линия</td>\n",
       "            <td>16</td>\n",
       "        </tr>\n",
       "        <tr>\n",
       "            <td>Таганско-Краснопресненская линия</td>\n",
       "            <td>23</td>\n",
       "        </tr>\n",
       "        <tr>\n",
       "            <td>Филёвская линия</td>\n",
       "            <td>13</td>\n",
       "        </tr>\n",
       "    </tbody>\n",
       "</table>"
      ],
      "text/plain": [
       "+-----------------------------------------------+----------------+\n",
       "|                      Line                     | count(Station) |\n",
       "+-----------------------------------------------+----------------+\n",
       "|           Арбатско-Покровская линия           |       22       |\n",
       "|            Большая кольцевая линия            |       29       |\n",
       "|         Бутовская линия Лёгкого метро         |       7        |\n",
       "|              Замоскворецкая линия             |       24       |\n",
       "|               Калининская линия               |       8        |\n",
       "|             Калужско-Рижская линия            |       24       |\n",
       "|                Каховская линия                |       3        |\n",
       "|                Кольцевая линия                |       13       |\n",
       "|          Люблинско-Дмитровская линия          |       24       |\n",
       "| Московская монорельсовая транспортная система |       6        |\n",
       "|         Московское центральное кольцо         |       31       |\n",
       "|               Некрасовская линия              |       11       |\n",
       "|        Серпуховско-Тимирязевская линия        |       25       |\n",
       "|              Сокольническая линия             |       26       |\n",
       "|               Солнцевская линия               |       16       |\n",
       "|        Таганско-Краснопресненская линия       |       23       |\n",
       "|                Филёвская линия                |       13       |\n",
       "+-----------------------------------------------+----------------+"
      ]
     },
     "execution_count": 43,
     "metadata": {},
     "output_type": "execute_result"
    }
   ],
   "source": [
    "# Показать список веток метрополитена и количество станций на каждой ветке\n",
    "cur.execute(\"SELECT Line, count(Station) FROM metro GROUP BY Line\")\n",
    "from_db_cursor(cur)"
   ]
  },
  {
   "cell_type": "code",
   "execution_count": 44,
   "metadata": {},
   "outputs": [
    {
     "data": {
      "text/html": [
       "<table>\n",
       "    <thead>\n",
       "        <tr>\n",
       "            <th>District</th>\n",
       "            <th>count(Station)</th>\n",
       "        </tr>\n",
       "    </thead>\n",
       "    <tbody>\n",
       "        <tr>\n",
       "            <td>Тверской район</td>\n",
       "            <td>17</td>\n",
       "        </tr>\n",
       "        <tr>\n",
       "            <td>Пресненский район</td>\n",
       "            <td>11</td>\n",
       "        </tr>\n",
       "        <tr>\n",
       "            <td>район Дорогомилово</td>\n",
       "            <td>10</td>\n",
       "        </tr>\n",
       "        <tr>\n",
       "            <td>район Замоскворечье</td>\n",
       "            <td>8</td>\n",
       "        </tr>\n",
       "        <tr>\n",
       "            <td>район Хамовники</td>\n",
       "            <td>7</td>\n",
       "        </tr>\n",
       "        <tr>\n",
       "            <td>район Раменки</td>\n",
       "            <td>7</td>\n",
       "        </tr>\n",
       "        <tr>\n",
       "            <td>район Арбат</td>\n",
       "            <td>7</td>\n",
       "        </tr>\n",
       "        <tr>\n",
       "            <td>Таганский район</td>\n",
       "            <td>7</td>\n",
       "        </tr>\n",
       "        <tr>\n",
       "            <td>Мещанский район</td>\n",
       "            <td>7</td>\n",
       "        </tr>\n",
       "        <tr>\n",
       "            <td>Красносельский район</td>\n",
       "            <td>7</td>\n",
       "        </tr>\n",
       "    </tbody>\n",
       "</table>"
      ],
      "text/plain": [
       "+----------------------+----------------+\n",
       "|       District       | count(Station) |\n",
       "+----------------------+----------------+\n",
       "|    Тверской район    |       17       |\n",
       "|  Пресненский район   |       11       |\n",
       "|  район Дорогомилово  |       10       |\n",
       "| район Замоскворечье  |       8        |\n",
       "|   район Хамовники    |       7        |\n",
       "|    район Раменки     |       7        |\n",
       "|     район Арбат      |       7        |\n",
       "|   Таганский район    |       7        |\n",
       "|   Мещанский район    |       7        |\n",
       "| Красносельский район |       7        |\n",
       "+----------------------+----------------+"
      ]
     },
     "execution_count": 44,
     "metadata": {},
     "output_type": "execute_result"
    }
   ],
   "source": [
    "# Показать список ТОП-10 районов с наибольшим количеством станций метрополитена в порядке возрастания\n",
    "cur.execute(\"SELECT District, count(Station) FROM metro GROUP BY District ORDER BY count(station) desc LIMIT 10\")\n",
    "from_db_cursor(cur)"
   ]
  },
  {
   "cell_type": "code",
   "execution_count": 45,
   "metadata": {},
   "outputs": [
    {
     "data": {
      "text/html": [
       "<table>\n",
       "    <thead>\n",
       "        <tr>\n",
       "            <th>Line</th>\n",
       "            <th>count(Station)</th>\n",
       "        </tr>\n",
       "    </thead>\n",
       "    <tbody>\n",
       "        <tr>\n",
       "            <td>Каховская линия</td>\n",
       "            <td>3</td>\n",
       "        </tr>\n",
       "        <tr>\n",
       "            <td>Московская монорельсовая транспортная система</td>\n",
       "            <td>6</td>\n",
       "        </tr>\n",
       "        <tr>\n",
       "            <td>Бутовская линия Лёгкого метро</td>\n",
       "            <td>7</td>\n",
       "        </tr>\n",
       "        <tr>\n",
       "            <td>Калининская линия</td>\n",
       "            <td>8</td>\n",
       "        </tr>\n",
       "        <tr>\n",
       "            <td>Некрасовская линия</td>\n",
       "            <td>11</td>\n",
       "        </tr>\n",
       "    </tbody>\n",
       "</table>"
      ],
      "text/plain": [
       "+-----------------------------------------------+----------------+\n",
       "|                      Line                     | count(Station) |\n",
       "+-----------------------------------------------+----------------+\n",
       "|                Каховская линия                |       3        |\n",
       "| Московская монорельсовая транспортная система |       6        |\n",
       "|         Бутовская линия Лёгкого метро         |       7        |\n",
       "|               Калининская линия               |       8        |\n",
       "|               Некрасовская линия              |       11       |\n",
       "+-----------------------------------------------+----------------+"
      ]
     },
     "execution_count": 45,
     "metadata": {},
     "output_type": "execute_result"
    }
   ],
   "source": [
    "# Показать список ТОП-5 веток метрополитена с наименьшим количеством действующих станций метро в порядке возрастания\n",
    "cur.execute(\"SELECT Line,count(Station) FROM metro GROUP BY Line ORDER BY count(Station)  LIMIT 5 \")\n",
    "from_db_cursor(cur)"
   ]
  }
 ],
 "metadata": {
  "interpreter": {
   "hash": "59f7dd0d2a961aa85784401b730497533cf16ab986729140e136359502db1984"
  },
  "kernelspec": {
   "display_name": "Python 3.10.0 64-bit",
   "language": "python",
   "name": "python3"
  },
  "language_info": {
   "codemirror_mode": {
    "name": "ipython",
    "version": 3
   },
   "file_extension": ".py",
   "mimetype": "text/x-python",
   "name": "python",
   "nbconvert_exporter": "python",
   "pygments_lexer": "ipython3",
   "version": "3.10.0"
  },
  "orig_nbformat": 4
 },
 "nbformat": 4,
 "nbformat_minor": 2
}
