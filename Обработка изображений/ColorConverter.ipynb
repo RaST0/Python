{
 "cells": [
  {
   "cell_type": "code",
   "execution_count": 10,
   "metadata": {},
   "outputs": [],
   "source": [
    "# Импорт библиотек и модулей\n",
    "from colormath.color_objects import LabColor, XYZColor, HSLColor, AdobeRGBColor,  HSVColor,LCHabColor,BaseRGBColor,sRGBColor\n",
    "from colormath.color_conversions import convert_color\n",
    "from colormath.color_diff import delta_e_cie2000\n",
    "from colormath.color_diff import delta_e_cie1994"
   ]
  },
  {
   "cell_type": "code",
   "execution_count": null,
   "metadata": {},
   "outputs": [],
   "source": [
    "# Задаем свой цвет\n",
    "lab = LabColor(70, -60, -30)"
   ]
  },
  {
   "cell_type": "code",
   "execution_count": 11,
   "metadata": {},
   "outputs": [
    {
     "data": {
      "text/plain": [
       "LCHabColor(lch_l=70.0,lch_c=67.08203932499369,lch_h=206.56505117707798)"
      ]
     },
     "execution_count": 11,
     "metadata": {},
     "output_type": "execute_result"
    }
   ],
   "source": [
    "# LCH\n",
    "lch = convert_color(lab, LCHabColor)\n",
    "lch"
   ]
  },
  {
   "cell_type": "code",
   "execution_count": 12,
   "metadata": {},
   "outputs": [
    {
     "data": {
      "text/plain": [
       "AdobeRGBColor(rgb_r=0.09545837017947077,rgb_g=0.776948850289143,rgb_b=0.8707496146743114)"
      ]
     },
     "execution_count": 12,
     "metadata": {},
     "output_type": "execute_result"
    }
   ],
   "source": [
    "# RGB\n",
    "rgb = convert_color(lab, AdobeRGBColor, through_rgb_type=AdobeRGBColor, is_upscaled = True)\n",
    "rgb"
   ]
  },
  {
   "cell_type": "code",
   "execution_count": 13,
   "metadata": {},
   "outputs": [
    {
     "data": {
      "text/plain": [
       "HSVColor(hsv_h=186.55164874567606,hsv_s=1.0,hsv_v=0.8779723522458359)"
      ]
     },
     "execution_count": 13,
     "metadata": {},
     "output_type": "execute_result"
    }
   ],
   "source": [
    "# HSV\n",
    "hsv = convert_color(lab, HSVColor)\n",
    "hsv"
   ]
  },
  {
   "cell_type": "code",
   "execution_count": 14,
   "metadata": {},
   "outputs": [
    {
     "data": {
      "text/plain": [
       "HSLColor(hsl_h=186.55164874567606,hsl_s=1.0,hsl_l=0.43898617612291796)"
      ]
     },
     "execution_count": 14,
     "metadata": {},
     "output_type": "execute_result"
    }
   ],
   "source": [
    "# HSL\n",
    "hsl = convert_color(lab, HSLColor)\n",
    "hsl"
   ]
  },
  {
   "cell_type": "code",
   "execution_count": 15,
   "metadata": {},
   "outputs": [
    {
     "name": "stdout",
     "output_type": "stream",
     "text": [
      "LCH-LAB = LabColor (lab_l:70.0000 lab_a:-60.0000 lab_b:-30.0000)\n",
      "RGB-LAB = LabColor (lab_l:70.6829 lab_a:-53.8774 lab_b:-28.8696)\n",
      "HSB-LAB = LabColor (lab_l:73.8172 lab_a:-32.3505 lab_b:-23.7934)\n",
      "HSL-LAB = LabColor (lab_l:73.8172 lab_a:-32.3505 lab_b:-23.7934)\n"
     ]
    }
   ],
   "source": [
    "# Обратный расчет\n",
    "rlch = convert_color(lch, LabColor)\n",
    "rrgb = convert_color(rgb, LabColor)\n",
    "rhsv = convert_color(hsv, LabColor)\n",
    "rhsl = convert_color(hsl, LabColor)\n",
    "print ('LCH-LAB =', rlch)\n",
    "print ('RGB-LAB =', rrgb)\n",
    "print ('HSV-LAB =', rhsv)\n",
    "print ('HSL-LAB =', rhsl)"
   ]
  },
  {
   "cell_type": "code",
   "execution_count": 16,
   "metadata": {},
   "outputs": [
    {
     "name": "stdout",
     "output_type": "stream",
     "text": [
      "1.8647514686816191\n"
     ]
    }
   ],
   "source": [
    "# E94\n",
    "E94 = delta_e_cie1994(lab, rrgb, K_L=1, K_C=1, K_H=1, K_1=0.045, K_2=0.015)\n",
    "E94"
   ]
  },
  {
   "cell_type": "code",
   "execution_count": 18,
   "metadata": {},
   "outputs": [
    {
     "data": {
      "text/plain": [
       "1.8337586479551018"
      ]
     },
     "execution_count": 18,
     "metadata": {},
     "output_type": "execute_result"
    }
   ],
   "source": [
    "# E00\n",
    "e00 = delta_e_cie2000(lab, rrgb, Kl=1, Kc=1, Kh=1)\n",
    "e00"
   ]
  }
 ],
 "metadata": {
  "interpreter": {
   "hash": "aee8b7b246df8f9039afb4144a1f6fd8d2ca17a180786b69acc140d282b71a49"
  },
  "kernelspec": {
   "display_name": "Python 3.10.1 64-bit",
   "language": "python",
   "name": "python3"
  },
  "language_info": {
   "codemirror_mode": {
    "name": "ipython",
    "version": 3
   },
   "file_extension": ".py",
   "mimetype": "text/x-python",
   "name": "python",
   "nbconvert_exporter": "python",
   "pygments_lexer": "ipython3",
   "version": "3.10.2"
  },
  "orig_nbformat": 4
 },
 "nbformat": 4,
 "nbformat_minor": 2
}
